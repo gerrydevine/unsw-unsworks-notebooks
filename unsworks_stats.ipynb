{
 "cells": [
  {
   "cell_type": "markdown",
   "id": "97e38e19",
   "metadata": {},
   "source": [
    "# Jupyter Notebook for UNSWorks download stats"
   ]
  },
  {
   "cell_type": "markdown",
   "id": "956d48ff",
   "metadata": {},
   "source": [
    "This notebook will scan UNSWorks records and create a list of stats"
   ]
  },
  {
   "cell_type": "markdown",
   "id": "1d244a1c",
   "metadata": {},
   "source": [
    "---"
   ]
  },
  {
   "cell_type": "markdown",
   "id": "3802589c",
   "metadata": {},
   "source": [
    "### Imports"
   ]
  },
  {
   "cell_type": "code",
   "execution_count": 1,
   "id": "7d4838a5",
   "metadata": {},
   "outputs": [],
   "source": [
    "import requests\n",
    "import csv"
   ]
  },
  {
   "cell_type": "markdown",
   "id": "9de10834",
   "metadata": {},
   "source": [
    "### Script Paramaters\n",
    "You can modify the following variables to suit your needs"
   ]
  },
  {
   "cell_type": "code",
   "execution_count": 2,
   "id": "cf2eb2c3",
   "metadata": {},
   "outputs": [],
   "source": [
    "def add_two_nums(num1, num2):\n",
    "    ans = num1 + num2\n",
    "    return ans"
   ]
  },
  {
   "cell_type": "code",
   "execution_count": 3,
   "id": "971de048",
   "metadata": {},
   "outputs": [],
   "source": [
    "my_val = add_two_nums(6, 7)"
   ]
  },
  {
   "cell_type": "code",
   "execution_count": 5,
   "id": "9817a00b",
   "metadata": {},
   "outputs": [
    {
     "name": "stdout",
     "output_type": "stream",
     "text": [
      "The answer is 13\n"
     ]
    }
   ],
   "source": [
    "print(f\"The answer is {my_val}\")"
   ]
  },
  {
   "cell_type": "code",
   "execution_count": null,
   "id": "f182c8b4",
   "metadata": {},
   "outputs": [],
   "source": []
  }
 ],
 "metadata": {
  "kernelspec": {
   "display_name": "Python 3 (ipykernel)",
   "language": "python",
   "name": "python3"
  },
  "language_info": {
   "codemirror_mode": {
    "name": "ipython",
    "version": 3
   },
   "file_extension": ".py",
   "mimetype": "text/x-python",
   "name": "python",
   "nbconvert_exporter": "python",
   "pygments_lexer": "ipython3",
   "version": "3.10.6"
  }
 },
 "nbformat": 4,
 "nbformat_minor": 5
}
